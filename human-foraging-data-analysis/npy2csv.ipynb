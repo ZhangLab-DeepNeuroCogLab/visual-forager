{
 "cells": [
  {
   "cell_type": "markdown",
   "metadata": {},
   "source": [
    "## Conver .npy to .csv"
   ]
  },
  {
   "cell_type": "code",
   "execution_count": null,
   "metadata": {},
   "outputs": [],
   "source": [
    "import numpy as np\n",
    "import scipy.io as sio\n",
    "data = np.load('fixation model/fmodeldata_iterative_unfreeze-ID2.npy',allow_pickle='TRUE').item()"
   ]
  },
  {
   "cell_type": "code",
   "execution_count": null,
   "metadata": {},
   "outputs": [],
   "source": [
    "np.savetxt('fixation model/ID2/clickPercentage.csv', data['click percentage'], delimiter=',')\n",
    "np.savetxt('fixation model/ID2/onscreenPercentage.csv', data['onscreen percentage'], delimiter=',')\n",
    "np.savetxt('fixation model/ID2/score.csv', data['score'], delimiter=',')\n",
    "np.savetxt('fixation model/ID2/clickDistribution.csv', data['click distribution'], delimiter=',')\n",
    "np.savetxt('fixation model/ID2/clickRatio.csv', data['click ratio'], delimiter=',')"
   ]
  },
  {
   "cell_type": "code",
   "execution_count": null,
   "metadata": {},
   "outputs": [],
   "source": [
    "def pad_and_stack_arrays(array_list):\n",
    "    # Find the maximum dimensions\n",
    "    max_dims = np.max([arr.shape for arr in array_list], axis=0)\n",
    "    \n",
    "    # Pad each array to the maximum dimensions\n",
    "    padded_arrays = []\n",
    "    for arr in array_list:\n",
    "        pad_width = [(0, max_dim - dim) for max_dim, dim in zip(max_dims, arr.shape)]\n",
    "        padded_arr = np.pad(arr, pad_width, mode='constant', constant_values=np.nan)\n",
    "        padded_arrays.append(padded_arr)\n",
    "    \n",
    "    # Stack the padded arrays\n",
    "    stacked_array = np.stack(padded_arrays)\n",
    "    \n",
    "    return stacked_array"
   ]
  },
  {
   "cell_type": "code",
   "execution_count": null,
   "metadata": {},
   "outputs": [],
   "source": [
    "condition = 'ID2'\n",
    "\n",
    "cumulative_score = pad_and_stack_arrays(data['cumulative score'])\n",
    "np.savetxt(('fixation model/' + condition + '/cumulativeScore.csv'), cumulative_score, delimiter=',')\n",
    "\n",
    "fixation_positions = data['fixation positions']\n",
    "result = pad_and_stack_arrays(fixation_positions)\n",
    "np.savetxt('fixation model/' + condition + '/fixationPositionX.csv', result[:,:,0], delimiter=',')\n",
    "np.savetxt('fixation model/' + condition + '/fixationPositionY.csv', result[:,:,1], delimiter=',')\n",
    "\n",
    "click_positions = data['click positions']\n",
    "result = pad_and_stack_arrays(click_positions)\n",
    "np.savetxt('fixation model/' + condition + '/clickPositionX.csv', result[:,:,0], delimiter=',')\n",
    "np.savetxt('fixation model/' + condition + '/clickPositionY.csv', result[:,:,1], delimiter=',')"
   ]
  },
  {
   "cell_type": "code",
   "execution_count": null,
   "metadata": {},
   "outputs": [],
   "source": [
    "import numpy as np\n",
    "import scipy.io as sio\n",
    "\n",
    "conditions = ['id1', 'id2', 'ood1', 'ood2', 'ood3', 'ood4', 'ood5', 'ood6', 'ood7', 'ood8']\n",
    "score = {}\n",
    "for condition in conditions:\n",
    "    data = np.load(('modeldata/popularity-' + condition + '.npy'), allow_pickle='TRUE').item()\n",
    "    score[condition] = data['score']\n",
    "sio.savemat('baselineScore.mat', score)\n",
    "\n",
    "score = {}\n",
    "for condition in conditions:\n",
    "    data = np.load(('modeldata/fmodeldata_iterative_freeze-' + condition + '.npy'), allow_pickle='TRUE').item()\n",
    "    score[condition] = data['score']\n",
    "sio.savemat('modelScore.mat', score)"
   ]
  },
  {
   "cell_type": "code",
   "execution_count": null,
   "metadata": {},
   "outputs": [],
   "source": [
    "import numpy as np\n",
    "import scipy.io as sio\n",
    "\n",
    "conditions = ['id1', 'id2', 'ood1']\n",
    "r = {}\n",
    "for condition in conditions:\n",
    "    data = np.load(('modeldata-radiusscore/fmodeldata_iterative_freeze-' + condition + '.npy'), allow_pickle='TRUE').item()\n",
    "    radius_score = np.zeros((len(data['radius score']), 4))\n",
    "    for i, score in enumerate(data['radius score']):\n",
    "        radius_score[i,:] = score\n",
    "    r[condition] = radius_score\n",
    "sio.savemat('modelRadiusScore.mat', r)\n"
   ]
  },
  {
   "cell_type": "code",
   "execution_count": null,
   "metadata": {},
   "outputs": [],
   "source": [
    "conditions = ['id1', 'id2', 'ood1']\n",
    "r = {}\n",
    "for condition in conditions:\n",
    "    data = np.load(('modeldata-radiusscore/chance-' + condition + '.npy'), allow_pickle='TRUE').item()\n",
    "    radius_score = np.zeros((len(data['radius score']), 4))\n",
    "    for i, score in enumerate(data['radius score']):\n",
    "        radius_score[i,:] = score\n",
    "    r[condition] = radius_score\n",
    "    print(np.mean(data['score']))\n",
    "sio.savemat('chanceRadiusScore.mat', r)"
   ]
  }
 ],
 "metadata": {
  "kernelspec": {
   "display_name": "deeprl",
   "language": "python",
   "name": "python3"
  },
  "language_info": {
   "codemirror_mode": {
    "name": "ipython",
    "version": 3
   },
   "file_extension": ".py",
   "mimetype": "text/x-python",
   "name": "python",
   "nbconvert_exporter": "python",
   "pygments_lexer": "ipython3",
   "version": "3.9.20"
  }
 },
 "nbformat": 4,
 "nbformat_minor": 2
}
